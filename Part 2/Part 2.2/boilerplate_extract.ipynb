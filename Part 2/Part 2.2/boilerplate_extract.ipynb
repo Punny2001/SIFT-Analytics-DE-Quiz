{
 "cells": [
  {
   "cell_type": "code",
   "execution_count": 1,
   "metadata": {},
   "outputs": [],
   "source": [
    "# Import required modules\n",
    "import pandas as pd\n",
    "import os"
   ]
  },
  {
   "cell_type": "code",
   "execution_count": 4,
   "metadata": {},
   "outputs": [],
   "source": [
    "# Set variable\n",
    "local_path = \"C:/Users/punza/OneDrive/Documents/\"\n",
    "file_path = f\"{local_path}/GitHub/SIFT-Analytics-DE-Quiz/Part 2/Part 2.2/quiz-de\""
   ]
  },
  {
   "cell_type": "code",
   "execution_count": 12,
   "metadata": {},
   "outputs": [],
   "source": [
    "def read_data():\n",
    "    \"\"\"\n",
    "    To read data from local path; return as a dictionary of DataFrame.\n",
    "    \"\"\"\n",
    "\n",
    "    files_name: list = []\n",
    "    data_dict: dict = {}\n",
    "\n",
    "    files_name = os.listdir(file_path)\n",
    "\n",
    "    for file in files_name:\n",
    "        key = file.split(\".\")[0]\n",
    "        data_dict[key] = pd.read_csv(file_path+\"/\"+file)    \n",
    "\n",
    "    return data_dict"
   ]
  }
 ],
 "metadata": {
  "kernelspec": {
   "display_name": "Python 3.8.5 64-bit ('base': conda)",
   "metadata": {
    "interpreter": {
     "hash": "1de32caf34c419131199d9eef6634904eb16e03703c0318a54987508904703eb"
    }
   },
   "name": "python3"
  },
  "language_info": {
   "codemirror_mode": {
    "name": "ipython",
    "version": 3
   },
   "file_extension": ".py",
   "mimetype": "text/x-python",
   "name": "python",
   "nbconvert_exporter": "python",
   "pygments_lexer": "ipython3",
   "version": "3.9.7"
  },
  "orig_nbformat": 2
 },
 "nbformat": 4,
 "nbformat_minor": 2
}
