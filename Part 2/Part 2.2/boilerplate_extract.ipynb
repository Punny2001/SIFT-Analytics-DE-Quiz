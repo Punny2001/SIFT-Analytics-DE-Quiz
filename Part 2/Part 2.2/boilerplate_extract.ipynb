{
 "metadata": {
  "language_info": {
   "codemirror_mode": {
    "name": "ipython",
    "version": 3
   },
   "file_extension": ".py",
   "mimetype": "text/x-python",
   "name": "python",
   "nbconvert_exporter": "python",
   "pygments_lexer": "ipython3",
   "version": "3.8.5-final"
  },
  "orig_nbformat": 2,
  "kernelspec": {
   "name": "python3",
   "display_name": "Python 3.8.5 64-bit ('base': conda)",
   "metadata": {
    "interpreter": {
     "hash": "1de32caf34c419131199d9eef6634904eb16e03703c0318a54987508904703eb"
    }
   }
  }
 },
 "nbformat": 4,
 "nbformat_minor": 2,
 "cells": [
  {
   "cell_type": "code",
   "execution_count": 1,
   "metadata": {},
   "outputs": [],
   "source": [
    "# Import required modules\n",
    "import pandas as pd\n",
    "import os"
   ]
  },
  {
   "cell_type": "code",
   "execution_count": null,
   "metadata": {},
   "outputs": [],
   "source": [
    "# Set variable\n",
    "local_path = \"/Users/punny/Documents/GitHub\"\n",
    "file_path = f\"{local_path}/GitHub/SIFT-Analytics-DE-Quiz/Part 2/Part 2.2/quiz-de\""
   ]
  },
  {
   "source": [
    "def read_data(path: str):\n",
    "    \"\"\"\n",
    "    To read data from local path; return as a DataFrame.\n",
    "    \"\"\"\n",
    "\n",
    "    files_name: list = []\n",
    "    data_list: list = []\n",
    "\n",
    "    \n",
    "    files_name = os.listdir(path)\n",
    "    print(files_name)\n",
    "\n",
    "read_data(file_path)  "
   ],
   "cell_type": "code",
   "metadata": {},
   "execution_count": 2,
   "outputs": []
  },
  {
   "cell_type": "code",
   "execution_count": null,
   "metadata": {},
   "outputs": [],
   "source": []
  }
 ]
}