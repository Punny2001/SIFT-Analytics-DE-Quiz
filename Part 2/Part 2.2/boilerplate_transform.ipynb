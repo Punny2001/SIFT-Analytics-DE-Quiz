{
 "cells": [
  {
   "cell_type": "code",
   "execution_count": 267,
   "metadata": {},
   "outputs": [],
   "source": [
    "%run boilerplate_extract.ipynb"
   ]
  },
  {
   "cell_type": "code",
   "execution_count": 268,
   "metadata": {},
   "outputs": [],
   "source": [
    "# Import required modules\n",
    "import pandas as pd\n",
    "import string\n",
    "import datetime as dt"
   ]
  },
  {
   "cell_type": "code",
   "execution_count": 269,
   "metadata": {},
   "outputs": [],
   "source": [
    "data_dict = read_data()"
   ]
  },
  {
   "cell_type": "code",
   "execution_count": 270,
   "metadata": {},
   "outputs": [],
   "source": [
    "def clean_phone_number(phone: str):\n",
    "    \"\"\"\n",
    "    To extract the phone number into numeric values\n",
    "    \"\"\"\n",
    "    for char in phone:\n",
    "        if char not in string.digits:\n",
    "            phone = phone.replace(char, \"\")\n",
    "\n",
    "    return phone"
   ]
  },
  {
   "cell_type": "code",
   "execution_count": 271,
   "metadata": {},
   "outputs": [],
   "source": [
    "def check_postal_code(code: str):\n",
    "    \"\"\"\n",
    "    To check if postal code is alphabet, return false; Else return true.\n",
    "    \"\"\"\n",
    "    for char in code:\n",
    "       if char in string.ascii_letters:\n",
    "            return False\n",
    "    return True"
   ]
  },
  {
   "cell_type": "code",
   "execution_count": 272,
   "metadata": {},
   "outputs": [],
   "source": [
    "def transform_suppliers(data: pd.DataFrame):\n",
    "    \"\"\"\n",
    "    To transform the suppliers table; return as a DataFrame.\n",
    "    \"\"\"\n",
    "    # Add supplier_contact column\n",
    "    data[\"supplier_contact\"] = data[\"Phone\"].apply(lambda x:0 if pd.isnull(x) else clean_phone_number(x))\n",
    "\n",
    "    # Transform PostalCode column\n",
    "    data[\"PostalCode\"] = data[\"PostalCode\"].apply(lambda x:x if check_postal_code(x) else 0)\n",
    "\n",
    "    return data"
   ]
  },
  {
   "cell_type": "code",
   "execution_count": 273,
   "metadata": {},
   "outputs": [],
   "source": [
    "def transform_shippers(data: pd.DataFrame):\n",
    "    \"\"\"\n",
    "    To transform the shippers table; return as a DataFrame.\n",
    "    \"\"\"\n",
    "    # Add shipper_contact column\n",
    "    data[\"shipper_contact\"] = data[\"Phone\"].apply(lambda x:0 if pd.isnull(x) else clean_phone_number(x))\n",
    "\n",
    "    return data"
   ]
  },
  {
   "cell_type": "code",
   "execution_count": 266,
   "metadata": {},
   "outputs": [],
   "source": [
    "def create_agg_table(data_dict: dict):\n",
    "    # Change data type of the data\n",
    "    data_dict[\"products\"][\"ProductID\"] = data_dict[\"products\"][\"ProductID\"].astype(int)\n",
    "    data_dict[\"products\"][\"Price\"] = data_dict[\"products\"][\"Price\"].astype(float)\n",
    "\n",
    "    data_dict[\"orders\"][\"OrderID\"] = data_dict[\"orders\"][\"OrderID\"].astype(float)\n",
    "\n",
    "    # Merge relevant table\n",
    "    df = pd.merge(data_dict[\"products\"], data_dict[\"orderdetails\"], on=\"ProductID\", how=\"inner\")\n",
    "    df = pd.merge(df, data_dict[\"orders\"], on=\"OrderID\", how=\"inner\")\n",
    "\n",
    "    # Extract Year and Month from OrderDate\n",
    "    df[\"Year-Month\"] = pd.to_datetime(df[\"OrderDate\"])\n",
    "    df[\"Year-Month\"] = df[\"Year-Month\"].dt.strftime(\"%Y-%m\")\n",
    "\n",
    "    # Calculate the sales_amount\n",
    "    df[\"amount\"] = df[\"Price\"] * df[\"Quantity\"]\n",
    "\n",
    "    # \n",
    "    df = df.groupby([\"Year-Month\", \"ProductID\", \"ProductName\"]).sum(\"amount\")\n",
    "\n",
    "    # Compute the percentage_change\n",
    "    df[\"percentage_change\"] = df[\"amount\"].pct_change() * 100\n",
    "\n",
    "    return df"
   ]
  }
 ],
 "metadata": {
  "kernelspec": {
   "display_name": "base",
   "language": "python",
   "name": "python3"
  },
  "language_info": {
   "codemirror_mode": {
    "name": "ipython",
    "version": 3
   },
   "file_extension": ".py",
   "mimetype": "text/x-python",
   "name": "python",
   "nbconvert_exporter": "python",
   "pygments_lexer": "ipython3",
   "version": "3.9.7"
  }
 },
 "nbformat": 4,
 "nbformat_minor": 2
}
